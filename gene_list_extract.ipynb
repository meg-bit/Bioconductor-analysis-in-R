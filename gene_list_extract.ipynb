{
 "cells": [
  {
   "cell_type": "code",
   "execution_count": 10,
   "id": "a84b10c1",
   "metadata": {},
   "outputs": [],
   "source": [
    "suppressPackageStartupMessages(library(dplyr))\n",
    "suppressPackageStartupMessages(library(data.table))\n",
    "suppressPackageStartupMessages(library(tidyverse))"
   ]
  },
  {
   "cell_type": "code",
   "execution_count": 15,
   "id": "9e319556",
   "metadata": {},
   "outputs": [
    {
     "data": {
      "text/html": [
       "<table class=\"dataframe\">\n",
       "<caption>A data.frame: 5 × 5</caption>\n",
       "<thead>\n",
       "\t<tr><th></th><th scope=col>CTG-0009</th><th scope=col>CTG-0011</th><th scope=col>CTG-0012</th><th scope=col>CTG-0017</th><th scope=col>CTG-0018</th></tr>\n",
       "\t<tr><th></th><th scope=col>&lt;dbl&gt;</th><th scope=col>&lt;dbl&gt;</th><th scope=col>&lt;dbl&gt;</th><th scope=col>&lt;dbl&gt;</th><th scope=col>&lt;dbl&gt;</th></tr>\n",
       "</thead>\n",
       "<tbody>\n",
       "\t<tr><th scope=row>A1BG</th><td>1.735215e+00</td><td>0.3082917</td><td>5.2034554</td><td>1.84463192</td><td>4.32450587</td></tr>\n",
       "\t<tr><th scope=row>A1CF</th><td>6.723755e-05</td><td>2.1043177</td><td>0.1374189</td><td>0.07529351</td><td>0.06043070</td></tr>\n",
       "\t<tr><th scope=row>A2M</th><td>8.566550e+00</td><td>0.2931488</td><td>9.7794064</td><td>2.55723084</td><td>0.04334531</td></tr>\n",
       "\t<tr><th scope=row>A2ML1</th><td>7.734365e-01</td><td>1.1496433</td><td>4.2569796</td><td>2.18351143</td><td>5.53159828</td></tr>\n",
       "\t<tr><th scope=row>A4GALT</th><td>2.571728e+00</td><td>2.7075023</td><td>2.2045688</td><td>1.25592267</td><td>3.79610434</td></tr>\n",
       "</tbody>\n",
       "</table>\n"
      ],
      "text/latex": [
       "A data.frame: 5 × 5\n",
       "\\begin{tabular}{r|lllll}\n",
       "  & CTG-0009 & CTG-0011 & CTG-0012 & CTG-0017 & CTG-0018\\\\\n",
       "  & <dbl> & <dbl> & <dbl> & <dbl> & <dbl>\\\\\n",
       "\\hline\n",
       "\tA1BG & 1.735215e+00 & 0.3082917 & 5.2034554 & 1.84463192 & 4.32450587\\\\\n",
       "\tA1CF & 6.723755e-05 & 2.1043177 & 0.1374189 & 0.07529351 & 0.06043070\\\\\n",
       "\tA2M & 8.566550e+00 & 0.2931488 & 9.7794064 & 2.55723084 & 0.04334531\\\\\n",
       "\tA2ML1 & 7.734365e-01 & 1.1496433 & 4.2569796 & 2.18351143 & 5.53159828\\\\\n",
       "\tA4GALT & 2.571728e+00 & 2.7075023 & 2.2045688 & 1.25592267 & 3.79610434\\\\\n",
       "\\end{tabular}\n"
      ],
      "text/markdown": [
       "\n",
       "A data.frame: 5 × 5\n",
       "\n",
       "| <!--/--> | CTG-0009 &lt;dbl&gt; | CTG-0011 &lt;dbl&gt; | CTG-0012 &lt;dbl&gt; | CTG-0017 &lt;dbl&gt; | CTG-0018 &lt;dbl&gt; |\n",
       "|---|---|---|---|---|---|\n",
       "| A1BG | 1.735215e+00 | 0.3082917 | 5.2034554 | 1.84463192 | 4.32450587 |\n",
       "| A1CF | 6.723755e-05 | 2.1043177 | 0.1374189 | 0.07529351 | 0.06043070 |\n",
       "| A2M | 8.566550e+00 | 0.2931488 | 9.7794064 | 2.55723084 | 0.04334531 |\n",
       "| A2ML1 | 7.734365e-01 | 1.1496433 | 4.2569796 | 2.18351143 | 5.53159828 |\n",
       "| A4GALT | 2.571728e+00 | 2.7075023 | 2.2045688 | 1.25592267 | 3.79610434 |\n",
       "\n"
      ],
      "text/plain": [
       "       CTG-0009     CTG-0011  CTG-0012  CTG-0017   CTG-0018  \n",
       "A1BG   1.735215e+00 0.3082917 5.2034554 1.84463192 4.32450587\n",
       "A1CF   6.723755e-05 2.1043177 0.1374189 0.07529351 0.06043070\n",
       "A2M    8.566550e+00 0.2931488 9.7794064 2.55723084 0.04334531\n",
       "A2ML1  7.734365e-01 1.1496433 4.2569796 2.18351143 5.53159828\n",
       "A4GALT 2.571728e+00 2.7075023 2.2045688 1.25592267 3.79610434"
      ]
     },
     "metadata": {},
     "output_type": "display_data"
    }
   ],
   "source": [
    "local.tpm.path <- '../logTPM.csv'\n",
    "log.tpm <- fread(local.tpm.path, fill = TRUE) %>%\n",
    "    column_to_rownames('Gene')\n",
    "log.tpm$V1 <- NULL\n",
    "log.tpm <- log.tpm[complete.cases(log.tpm), ]\n",
    "log.tpm[1:5,1:5]"
   ]
  },
  {
   "cell_type": "code",
   "execution_count": 18,
   "id": "578a1a44",
   "metadata": {},
   "outputs": [
    {
     "name": "stdout",
     "output_type": "stream",
     "text": [
      "[1] 5814 1101\n"
     ]
    }
   ],
   "source": [
    "print(dim(log.tpm))"
   ]
  },
  {
   "cell_type": "code",
   "execution_count": 20,
   "id": "c3413079",
   "metadata": {},
   "outputs": [
    {
     "data": {
      "text/html": [
       "<style>\n",
       ".list-inline {list-style: none; margin:0; padding: 0}\n",
       ".list-inline>li {display: inline-block}\n",
       ".list-inline>li:not(:last-child)::after {content: \"\\00b7\"; padding: 0 .5ex}\n",
       "</style>\n",
       "<ol class=list-inline><li>'AGR2'</li><li>'CEACAM6'</li><li>'FN1'</li><li>'AZGP1'</li><li>'CLDN3'</li></ol>\n"
      ],
      "text/latex": [
       "\\begin{enumerate*}\n",
       "\\item 'AGR2'\n",
       "\\item 'CEACAM6'\n",
       "\\item 'FN1'\n",
       "\\item 'AZGP1'\n",
       "\\item 'CLDN3'\n",
       "\\end{enumerate*}\n"
      ],
      "text/markdown": [
       "1. 'AGR2'\n",
       "2. 'CEACAM6'\n",
       "3. 'FN1'\n",
       "4. 'AZGP1'\n",
       "5. 'CLDN3'\n",
       "\n",
       "\n"
      ],
      "text/plain": [
       "[1] \"AGR2\"    \"CEACAM6\" \"FN1\"     \"AZGP1\"   \"CLDN3\"  "
      ]
     },
     "metadata": {},
     "output_type": "display_data"
    }
   ],
   "source": [
    "mad.genes <-\n",
    "  apply(log.tpm, 1, mad) %>% \n",
    "    sort(decreasing = TRUE) %>% \n",
    "      names() %>% \n",
    "        head(n = 400)\n",
    "mad.genes[1:5]"
   ]
  },
  {
   "cell_type": "code",
   "execution_count": 23,
   "id": "50840591",
   "metadata": {},
   "outputs": [],
   "source": [
    "# write.csv(mad.genes, 'gene_list.csv')"
   ]
  }
 ],
 "metadata": {
  "kernelspec": {
   "display_name": "R",
   "language": "R",
   "name": "ir"
  },
  "language_info": {
   "codemirror_mode": "r",
   "file_extension": ".r",
   "mimetype": "text/x-r-source",
   "name": "R",
   "pygments_lexer": "r",
   "version": "4.1.1"
  }
 },
 "nbformat": 4,
 "nbformat_minor": 5
}
