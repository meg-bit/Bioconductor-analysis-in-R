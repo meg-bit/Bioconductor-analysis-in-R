{
 "cells": [
  {
   "cell_type": "markdown",
   "id": "649b0c34",
   "metadata": {},
   "source": [
    "### Example notebook for WorkStation - OMICS correlation: gene to gene\n",
    "\n",
    "This notebook demonstrates reading from API and performing analysis of OMICS data correlation.\n",
    "- title: \"OMICS correlation: gene to gene\"\n",
    "- author: \"Margaret Paiva\"\n",
    "- date: \"25/10/2021\"\n",
    "- output: R notebook"
   ]
  },
  {
   "cell_type": "code",
   "execution_count": 17,
   "id": "824b13bc",
   "metadata": {},
   "outputs": [],
   "source": [
    "# Check your R version if packages are not compatible\n",
    "R.version"
   ]
  },
  {
   "cell_type": "code",
   "execution_count": 2,
   "id": "310629d8",
   "metadata": {},
   "outputs": [],
   "source": [
    "suppressPackageStartupMessages(library(jsonlite))\n",
    "suppressPackageStartupMessages(library(rjson))\n",
    "suppressPackageStartupMessages(library(httr))\n",
    "suppressPackageStartupMessages(library(dplyr))\n",
    "suppressPackageStartupMessages(library(data.table))\n",
    "suppressPackageStartupMessages(library(tidyr))\n",
    "suppressPackageStartupMessages(library(tibble))\n",
    "suppressPackageStartupMessages(library(ggplot2))"
   ]
  },
  {
   "cell_type": "markdown",
   "id": "a876e1ae",
   "metadata": {},
   "source": [
    "Request data from API if it is not done yet."
   ]
  },
  {
   "cell_type": "code",
   "execution_count": 3,
   "id": "6a198032",
   "metadata": {},
   "outputs": [],
   "source": [
    "# Define the data to query from API\n",
    "data  <- list(\"request_data_type\" = \"expression\",\n",
    "  \"request_cancer_type\" = list(\"all\"),\n",
    "  \"request_genes\" = c(\"ATM\", \"BRCA1\", \"BRCA2\", \"BRIP1\", \"CDK12\", \"FANCA\", \"HDAC2\", \"KRAS\", \n",
    "                      \"PALB2\", \"SRY\", \"TP53\", \"NOTCH1\", \"CCND1\", \"BARD1\", \"FBLN2\", \"CDKN1B\", \n",
    "                      \"RB1\", \"CHEK2\", \"APOBEC3B\", \"PALB2\"),  # to define a list of genes here\n",
    "  \"request_dataset\" = \"PDX\",\n",
    "  \"request_key\" = \"a3208f8f73654023bd0f267eb9d014bb\",\n",
    "  \"request_client\" = 99,\n",
    "  \"request_user\" = 99,\n",
    "  \"request_mode\" = 'true') "
   ]
  },
  {
   "cell_type": "code",
   "execution_count": 9,
   "id": "bb94fd15",
   "metadata": {},
   "outputs": [],
   "source": [
    "# Request data from API - this may take some time\n",
    "request  <-  POST(url = 'https://lumin-fast-api.championsoncology.com/workstation', \n",
    "                  body = data, encode = 'json')\n",
    "request\n",
    "# A successful request will give \"Status: 200\""
   ]
  },
  {
   "cell_type": "code",
   "execution_count": 36,
   "id": "e3b2622d",
   "metadata": {},
   "outputs": [
    {
     "data": {
      "text/html": [
       "'success, the file you may view your requested data in your root directory'"
      ],
      "text/latex": [
       "'success, the file you may view your requested data in your root directory'"
      ],
      "text/markdown": [
       "'success, the file you may view your requested data in your root directory'"
      ],
      "text/plain": [
       "[1] \"success, the file you may view your requested data in your root directory\""
      ]
     },
     "metadata": {},
     "output_type": "display_data"
    }
   ],
   "source": [
    "# This will save the data file as a .json file in your root directory\n",
    "response <- content(request)\n",
    "response"
   ]
  },
  {
   "cell_type": "code",
   "execution_count": 4,
   "id": "74ecca15",
   "metadata": {},
   "outputs": [],
   "source": [
    "# Enter the file name of the .json file in your root directory below\n",
    "lt  <-  fromJSON(file = \"./data/requested_data---22-10-2021---16_01_19.json\")"
   ]
  },
  {
   "cell_type": "code",
   "execution_count": 5,
   "id": "dd37d55d",
   "metadata": {
    "scrolled": true
   },
   "outputs": [
    {
     "data": {
      "text/html": [
       "<table>\n",
       "<thead><tr><th scope=col>v1</th><th scope=col>gene_id</th><th scope=col>log.rsem.rpkm</th><th scope=col>log.tpm</th><th scope=col>z</th><th scope=col>fold</th><th scope=col>trans</th><th scope=col>model</th><th scope=col>sort_key</th><th scope=col>gene</th><th scope=col>model_name</th><th scope=col>tumor_type</th></tr></thead>\n",
       "<tbody>\n",
       "\t<tr><td>16543076                                     </td><td>ENSG00000012048                              </td><td>2.48625433850603                             </td><td>3.081518                                     </td><td>-1.12382363797508                            </td><td>0.751459769651646                            </td><td>ENST00000351666:62.89% ENST00000354071:27.08%</td><td>CTG-2829                                     </td><td>CTG-2829_Expression_1                        </td><td>BRCA1                                        </td><td>CTG-2829                                     </td><td>Breast                                       </td></tr>\n",
       "\t<tr><td>16544344                                     </td><td>ENSG00000083093                              </td><td>4.77007909981351                             </td><td>5.353008                                     </td><td>3.2876292952754                              </td><td>1.51710991376448                             </td><td>ENST00000566069:66.71% ENST00000568219:33.04%</td><td>CTG-2829                                     </td><td>CTG-2829_Expression_1                        </td><td>PALB2                                        </td><td>CTG-2829                                     </td><td>Breast                                       </td></tr>\n",
       "</tbody>\n",
       "</table>\n"
      ],
      "text/latex": [
       "\\begin{tabular}{r|llllllllllll}\n",
       " v1 & gene\\_id & log.rsem.rpkm & log.tpm & z & fold & trans & model & sort\\_key & gene & model\\_name & tumor\\_type\\\\\n",
       "\\hline\n",
       "\t 16543076                                          & ENSG00000012048                                   & 2.48625433850603                                  & 3.081518                                          & -1.12382363797508                                 & 0.751459769651646                                 & ENST00000351666:62.89\\% ENST00000354071:27.08\\% & CTG-2829                                          & CTG-2829\\_Expression\\_1                         & BRCA1                                             & CTG-2829                                          & Breast                                           \\\\\n",
       "\t 16544344                                          & ENSG00000083093                                   & 4.77007909981351                                  & 5.353008                                          & 3.2876292952754                                   & 1.51710991376448                                  & ENST00000566069:66.71\\% ENST00000568219:33.04\\% & CTG-2829                                          & CTG-2829\\_Expression\\_1                         & PALB2                                             & CTG-2829                                          & Breast                                           \\\\\n",
       "\\end{tabular}\n"
      ],
      "text/markdown": [
       "\n",
       "| v1 | gene_id | log.rsem.rpkm | log.tpm | z | fold | trans | model | sort_key | gene | model_name | tumor_type |\n",
       "|---|---|---|---|---|---|---|---|---|---|---|---|\n",
       "| 16543076                                      | ENSG00000012048                               | 2.48625433850603                              | 3.081518                                      | -1.12382363797508                             | 0.751459769651646                             | ENST00000351666:62.89% ENST00000354071:27.08% | CTG-2829                                      | CTG-2829_Expression_1                         | BRCA1                                         | CTG-2829                                      | Breast                                        |\n",
       "| 16544344                                      | ENSG00000083093                               | 4.77007909981351                              | 5.353008                                      | 3.2876292952754                               | 1.51710991376448                              | ENST00000566069:66.71% ENST00000568219:33.04% | CTG-2829                                      | CTG-2829_Expression_1                         | PALB2                                         | CTG-2829                                      | Breast                                        |\n",
       "\n"
      ],
      "text/plain": [
       "  v1       gene_id         log.rsem.rpkm    log.tpm  z                \n",
       "1 16543076 ENSG00000012048 2.48625433850603 3.081518 -1.12382363797508\n",
       "2 16544344 ENSG00000083093 4.77007909981351 5.353008 3.2876292952754  \n",
       "  fold              trans                                         model   \n",
       "1 0.751459769651646 ENST00000351666:62.89% ENST00000354071:27.08% CTG-2829\n",
       "2 1.51710991376448  ENST00000566069:66.71% ENST00000568219:33.04% CTG-2829\n",
       "  sort_key              gene  model_name tumor_type\n",
       "1 CTG-2829_Expression_1 BRCA1 CTG-2829   Breast    \n",
       "2 CTG-2829_Expression_1 PALB2 CTG-2829   Breast    "
      ]
     },
     "metadata": {},
     "output_type": "display_data"
    },
    {
     "name": "stdout",
     "output_type": "stream",
     "text": [
      "[1] 20640    12\n"
     ]
    }
   ],
   "source": [
    "# Create a dataframe from the data\n",
    "df  <- do.call(rbind, lapply(lt, rbind))\n",
    "df  <- as.data.frame(df)\n",
    "df$gene  <- as.character(df$gene)  # each column is a list - specify data type\n",
    "df$log.tpm  <- as.numeric(df$log.tpm)\n",
    "head(df, 2)\n",
    "print(dim(df))"
   ]
  },
  {
   "cell_type": "code",
   "execution_count": 6,
   "id": "63ef4004",
   "metadata": {
    "scrolled": false
   },
   "outputs": [
    {
     "data": {
      "text/html": [
       "<table>\n",
       "<thead><tr><th></th><th scope=col>BRCA1</th><th scope=col>PALB2</th><th scope=col>CCND1</th><th scope=col>CDKN1B</th><th scope=col>KRAS</th></tr></thead>\n",
       "<tbody>\n",
       "\t<tr><th scope=row>CTG-2829</th><td>3.081518</td><td>5.353008</td><td>6.612856</td><td>6.256398</td><td>3.587479</td></tr>\n",
       "\t<tr><th scope=row>CTG-0437</th><td>3.618647</td><td>3.687081</td><td>4.885116</td><td>5.735280</td><td>5.146602</td></tr>\n",
       "\t<tr><th scope=row>CTG-0093</th><td>3.602469</td><td>3.144759</td><td>6.614539</td><td>5.466478</td><td>5.730350</td></tr>\n",
       "\t<tr><th scope=row>CTG-2535</th><td>3.690036</td><td>4.030954</td><td>3.899270</td><td>6.115044</td><td>3.533881</td></tr>\n",
       "\t<tr><th scope=row>CTG-0664</th><td>4.185268</td><td>4.575462</td><td>4.908090</td><td>4.991020</td><td>4.077113</td></tr>\n",
       "</tbody>\n",
       "</table>\n"
      ],
      "text/latex": [
       "\\begin{tabular}{r|lllll}\n",
       "  & BRCA1 & PALB2 & CCND1 & CDKN1B & KRAS\\\\\n",
       "\\hline\n",
       "\tCTG-2829 & 3.081518 & 5.353008 & 6.612856 & 6.256398 & 3.587479\\\\\n",
       "\tCTG-0437 & 3.618647 & 3.687081 & 4.885116 & 5.735280 & 5.146602\\\\\n",
       "\tCTG-0093 & 3.602469 & 3.144759 & 6.614539 & 5.466478 & 5.730350\\\\\n",
       "\tCTG-2535 & 3.690036 & 4.030954 & 3.899270 & 6.115044 & 3.533881\\\\\n",
       "\tCTG-0664 & 4.185268 & 4.575462 & 4.908090 & 4.991020 & 4.077113\\\\\n",
       "\\end{tabular}\n"
      ],
      "text/markdown": [
       "\n",
       "| <!--/--> | BRCA1 | PALB2 | CCND1 | CDKN1B | KRAS |\n",
       "|---|---|---|---|---|---|\n",
       "| CTG-2829 | 3.081518 | 5.353008 | 6.612856 | 6.256398 | 3.587479 |\n",
       "| CTG-0437 | 3.618647 | 3.687081 | 4.885116 | 5.735280 | 5.146602 |\n",
       "| CTG-0093 | 3.602469 | 3.144759 | 6.614539 | 5.466478 | 5.730350 |\n",
       "| CTG-2535 | 3.690036 | 4.030954 | 3.899270 | 6.115044 | 3.533881 |\n",
       "| CTG-0664 | 4.185268 | 4.575462 | 4.908090 | 4.991020 | 4.077113 |\n",
       "\n"
      ],
      "text/plain": [
       "         BRCA1    PALB2    CCND1    CDKN1B   KRAS    \n",
       "CTG-2829 3.081518 5.353008 6.612856 6.256398 3.587479\n",
       "CTG-0437 3.618647 3.687081 4.885116 5.735280 5.146602\n",
       "CTG-0093 3.602469 3.144759 6.614539 5.466478 5.730350\n",
       "CTG-2535 3.690036 4.030954 3.899270 6.115044 3.533881\n",
       "CTG-0664 4.185268 4.575462 4.908090 4.991020 4.077113"
      ]
     },
     "metadata": {},
     "output_type": "display_data"
    }
   ],
   "source": [
    "# Extract the expression values and pivot a table for genes\n",
    "gene_tpm <- df %>% \n",
    "  dplyr::select(gene, log.tpm, model) %>% \n",
    "  na.omit() %>% \n",
    "  pivot_wider(names_from = gene, \n",
    "              values_from = log.tpm) %>% \n",
    "  column_to_rownames('model')\n",
    "gene_tpm[1:5, 1:5]"
   ]
  },
  {
   "cell_type": "code",
   "execution_count": 16,
   "id": "4b3c04c2",
   "metadata": {},
   "outputs": [
    {
     "data": {
      "text/html": [
       "0.624458568994557"
      ],
      "text/latex": [
       "0.624458568994557"
      ],
      "text/markdown": [
       "0.624458568994557"
      ],
      "text/plain": [
       "[1] 0.6244586"
      ]
     },
     "metadata": {},
     "output_type": "display_data"
    }
   ],
   "source": [
    "# Example to correlate two genes\n",
    "rho <- cor(gene_tpm$BRCA1, gene_tpm$BRCA2)\n",
    "rho"
   ]
  },
  {
   "cell_type": "code",
   "execution_count": 35,
   "id": "6928b7a4",
   "metadata": {},
   "outputs": [
    {
     "data": {
      "image/png": "[encoded data removed]",
      "text/plain": [
       "plot without title"
      ]
     },
     "metadata": {},
     "output_type": "display_data"
    }
   ],
   "source": [
    "options(repr.plot.width = 4, repr.plot.height = 4)\n",
    "ggplot(gene_tpm, mapping = aes(x = BRCA1, y = BRCA2))+\n",
    "geom_point()+\n",
    "geom_smooth(method = \"lm\", se = FALSE, formula = y ~ x)+\n",
    "geom_text(x = 1.6, y = 6, label = paste(\"Correlation=\", round(rho, 3), collapse=\"\"))+\n",
    "ggtitle(\"Correlation of the log.tpm from two genes\")+\n",
    "xlab(\"BRCA1\")+\n",
    "ylab(\"BRCA2\")"
   ]
  },
  {
   "cell_type": "code",
   "execution_count": 25,
   "id": "4c597483",
   "metadata": {},
   "outputs": [
    {
     "data": {
      "text/html": [
       "<table>\n",
       "<thead><tr><th></th><th scope=col>BRCA1</th><th scope=col>PALB2</th><th scope=col>CCND1</th><th scope=col>CDKN1B</th><th scope=col>KRAS</th></tr></thead>\n",
       "<tbody>\n",
       "\t<tr><th scope=row>BRCA1</th><td>1.0</td><td>0.6</td><td>0.0</td><td>0.3</td><td>0.3</td></tr>\n",
       "\t<tr><th scope=row>PALB2</th><td>0.6</td><td>1.0</td><td>0.2</td><td>0.4</td><td>0.5</td></tr>\n",
       "\t<tr><th scope=row>CCND1</th><td>0.0</td><td>0.2</td><td>1.0</td><td>0.1</td><td>0.2</td></tr>\n",
       "\t<tr><th scope=row>CDKN1B</th><td>0.3</td><td>0.4</td><td>0.1</td><td>1.0</td><td>0.3</td></tr>\n",
       "\t<tr><th scope=row>KRAS</th><td>0.3</td><td>0.5</td><td>0.2</td><td>0.3</td><td>1.0</td></tr>\n",
       "</tbody>\n",
       "</table>\n"
      ],
      "text/latex": [
       "\\begin{tabular}{r|lllll}\n",
       "  & BRCA1 & PALB2 & CCND1 & CDKN1B & KRAS\\\\\n",
       "\\hline\n",
       "\tBRCA1 & 1.0 & 0.6 & 0.0 & 0.3 & 0.3\\\\\n",
       "\tPALB2 & 0.6 & 1.0 & 0.2 & 0.4 & 0.5\\\\\n",
       "\tCCND1 & 0.0 & 0.2 & 1.0 & 0.1 & 0.2\\\\\n",
       "\tCDKN1B & 0.3 & 0.4 & 0.1 & 1.0 & 0.3\\\\\n",
       "\tKRAS & 0.3 & 0.5 & 0.2 & 0.3 & 1.0\\\\\n",
       "\\end{tabular}\n"
      ],
      "text/markdown": [
       "\n",
       "| <!--/--> | BRCA1 | PALB2 | CCND1 | CDKN1B | KRAS |\n",
       "|---|---|---|---|---|---|\n",
       "| BRCA1 | 1.0 | 0.6 | 0.0 | 0.3 | 0.3 |\n",
       "| PALB2 | 0.6 | 1.0 | 0.2 | 0.4 | 0.5 |\n",
       "| CCND1 | 0.0 | 0.2 | 1.0 | 0.1 | 0.2 |\n",
       "| CDKN1B | 0.3 | 0.4 | 0.1 | 1.0 | 0.3 |\n",
       "| KRAS | 0.3 | 0.5 | 0.2 | 0.3 | 1.0 |\n",
       "\n"
      ],
      "text/plain": [
       "       BRCA1 PALB2 CCND1 CDKN1B KRAS\n",
       "BRCA1  1.0   0.6   0.0   0.3    0.3 \n",
       "PALB2  0.6   1.0   0.2   0.4    0.5 \n",
       "CCND1  0.0   0.2   1.0   0.1    0.2 \n",
       "CDKN1B 0.3   0.4   0.1   1.0    0.3 \n",
       "KRAS   0.3   0.5   0.2   0.3    1.0 "
      ]
     },
     "metadata": {},
     "output_type": "display_data"
    }
   ],
   "source": [
    "cormat <- round(cor(gene_tpm), 1)\n",
    "cormat[1:5, 1:5]"
   ]
  },
  {
   "cell_type": "code",
   "execution_count": 26,
   "id": "141828f4",
   "metadata": {},
   "outputs": [],
   "source": [
    "get_lower_tri<-function(cormat){\n",
    "    cormat[upper.tri(cormat)] <- NA\n",
    "    return(cormat)}"
   ]
  },
  {
   "cell_type": "code",
   "execution_count": 27,
   "id": "531a18b1",
   "metadata": {},
   "outputs": [
    {
     "data": {
      "text/html": [
       "<table>\n",
       "<thead><tr><th></th><th scope=col>BRCA1</th><th scope=col>PALB2</th><th scope=col>CCND1</th><th scope=col>CDKN1B</th><th scope=col>KRAS</th></tr></thead>\n",
       "<tbody>\n",
       "\t<tr><th scope=row>BRCA1</th><td>1.0</td><td> NA</td><td> NA</td><td> NA</td><td>NA </td></tr>\n",
       "\t<tr><th scope=row>PALB2</th><td>0.6</td><td>1.0</td><td> NA</td><td> NA</td><td>NA </td></tr>\n",
       "\t<tr><th scope=row>CCND1</th><td>0.0</td><td>0.2</td><td>1.0</td><td> NA</td><td>NA </td></tr>\n",
       "\t<tr><th scope=row>CDKN1B</th><td>0.3</td><td>0.4</td><td>0.1</td><td>1.0</td><td>NA </td></tr>\n",
       "\t<tr><th scope=row>KRAS</th><td>0.3</td><td>0.5</td><td>0.2</td><td>0.3</td><td> 1 </td></tr>\n",
       "</tbody>\n",
       "</table>\n"
      ],
      "text/latex": [
       "\\begin{tabular}{r|lllll}\n",
       "  & BRCA1 & PALB2 & CCND1 & CDKN1B & KRAS\\\\\n",
       "\\hline\n",
       "\tBRCA1 & 1.0 &  NA &  NA &  NA & NA \\\\\n",
       "\tPALB2 & 0.6 & 1.0 &  NA &  NA & NA \\\\\n",
       "\tCCND1 & 0.0 & 0.2 & 1.0 &  NA & NA \\\\\n",
       "\tCDKN1B & 0.3 & 0.4 & 0.1 & 1.0 & NA \\\\\n",
       "\tKRAS & 0.3 & 0.5 & 0.2 & 0.3 &  1 \\\\\n",
       "\\end{tabular}\n"
      ],
      "text/markdown": [
       "\n",
       "| <!--/--> | BRCA1 | PALB2 | CCND1 | CDKN1B | KRAS |\n",
       "|---|---|---|---|---|---|\n",
       "| BRCA1 | 1.0 |  NA |  NA |  NA | NA  |\n",
       "| PALB2 | 0.6 | 1.0 |  NA |  NA | NA  |\n",
       "| CCND1 | 0.0 | 0.2 | 1.0 |  NA | NA  |\n",
       "| CDKN1B | 0.3 | 0.4 | 0.1 | 1.0 | NA  |\n",
       "| KRAS | 0.3 | 0.5 | 0.2 | 0.3 |  1  |\n",
       "\n"
      ],
      "text/plain": [
       "       BRCA1 PALB2 CCND1 CDKN1B KRAS\n",
       "BRCA1  1.0    NA    NA    NA    NA  \n",
       "PALB2  0.6   1.0    NA    NA    NA  \n",
       "CCND1  0.0   0.2   1.0    NA    NA  \n",
       "CDKN1B 0.3   0.4   0.1   1.0    NA  \n",
       "KRAS   0.3   0.5   0.2   0.3     1  "
      ]
     },
     "metadata": {},
     "output_type": "display_data"
    }
   ],
   "source": [
    "lower_tri <- get_lower_tri(cormat)\n",
    "lower_tri[1:5, 1:5]"
   ]
  },
  {
   "cell_type": "code",
   "execution_count": 28,
   "id": "413a07ed",
   "metadata": {},
   "outputs": [],
   "source": [
    "library(reshape2)"
   ]
  },
  {
   "cell_type": "code",
   "execution_count": 29,
   "id": "99cc43e0",
   "metadata": {},
   "outputs": [],
   "source": [
    "melted_cormat <- melt(lower_tri, na.rm = TRUE)"
   ]
  },
  {
   "cell_type": "markdown",
   "id": "ddb125fd",
   "metadata": {},
   "source": [
    "Need to fix\n",
    "- negative values in the correlation matrix\n",
    "- remove SRY, which produced NAN\n",
    "- may put heatmap as a notebook \"omics_annotated_correlation_map_R\""
   ]
  },
  {
   "cell_type": "code",
   "execution_count": 32,
   "id": "d84745f5",
   "metadata": {},
   "outputs": [
    {
     "data": {
      "image/png": "[encoded data removed]",
      "text/plain": [
       "plot without title"
      ]
     },
     "metadata": {},
     "output_type": "display_data"
    }
   ],
   "source": [
    "# Heatmap\n",
    "options(repr.plot.width = 10, repr.plot.height = 10)\n",
    "ggplot(data = melted_cormat, aes(Var2, Var1, fill = value))+\n",
    " geom_tile(color = \"white\")+\n",
    " scale_fill_gradient2(low = \"blue\", high = \"red\", mid = \"white\", \n",
    "   midpoint = 0, limit = c(-1,1), space = \"Lab\", \n",
    "   name=\"Correlation\") +\n",
    "  theme_minimal()+ \n",
    " theme(axis.text.x = element_text(angle = 45, vjust = 1, \n",
    "    size = 10, hjust = 1))+\n",
    " coord_fixed()+\n",
    " geom_text(aes(Var2, Var1, label = value), color = \"black\", size = 1.5)+\n",
    " theme(\n",
    "  axis.title.x = element_blank(),\n",
    "  axis.title.y = element_blank(),\n",
    "  panel.grid.major = element_blank(),\n",
    "  panel.border = element_blank(),\n",
    "  panel.background = element_blank(),\n",
    "  axis.ticks = element_blank())+\n",
    "  guides(fill = guide_colorbar(barwidth = 1, barheight = 8,\n",
    "                title.position = \"top\", title.hjust = 0.5))"
   ]
  }
 ],
 "metadata": {
  "kernelspec": {
   "display_name": "R",
   "language": "R",
   "name": "ir"
  },
  "language_info": {
   "codemirror_mode": "r",
   "file_extension": ".r",
   "mimetype": "text/x-r-source",
   "name": "R",
   "pygments_lexer": "r",
   "version": "3.6.1"
  }
 },
 "nbformat": 4,
 "nbformat_minor": 5
}
