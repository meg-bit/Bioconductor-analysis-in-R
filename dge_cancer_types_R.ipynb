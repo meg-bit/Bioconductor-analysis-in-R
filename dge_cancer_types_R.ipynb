{
 "cells": [
  {
   "cell_type": "markdown",
   "id": "649b0c34",
   "metadata": {},
   "source": [
    "### Example notebook - differential gene expression for different cancer types\n",
    "\n",
    "This notebook demonstrates reading from API and performing analysis of differential gene expression.\n",
    "- title: \"DGE - Cancer Types\"\n",
    "- author: \"Margaret Paiva\"\n",
    "- date: \"21/10/2021\"\n",
    "- output: R notebook"
   ]
  },
  {
   "cell_type": "code",
   "execution_count": 2,
   "id": "310629d8",
   "metadata": {},
   "outputs": [],
   "source": [
    "suppressPackageStartupMessages(library(jsonlite))\n",
    "suppressPackageStartupMessages(library(rjson))\n",
    "suppressPackageStartupMessages(library(httr))\n",
    "suppressPackageStartupMessages(library(dplyr))\n",
    "suppressPackageStartupMessages(library(data.table))\n",
    "suppressPackageStartupMessages(library(parallel))\n",
    "suppressPackageStartupMessages(library(DBI))\n",
    "suppressPackageStartupMessages(library(DT))\n",
    "suppressPackageStartupMessages(library(limma))\n",
    "suppressPackageStartupMessages(library(fgsea))\n",
    "suppressPackageStartupMessages(library(tidyr))\n",
    "suppressPackageStartupMessages(library(tibble))\n",
    "suppressPackageStartupMessages(library(ggplot2))"
   ]
  },
  {
   "cell_type": "markdown",
   "id": "a876e1ae",
   "metadata": {},
   "source": [
    "Request data from API if it is not done yet."
   ]
  },
  {
   "cell_type": "code",
   "execution_count": 3,
   "id": "b548f271",
   "metadata": {},
   "outputs": [],
   "source": [
    "# In \"gene_list.csv\", define a list of genes of interest\n",
    "gene_list  <- as.list(read.csv(\"gene_list.csv\")$x)"
   ]
  },
  {
   "cell_type": "code",
   "execution_count": 34,
   "id": "6a198032",
   "metadata": {},
   "outputs": [],
   "source": [
    "# Define the data to query from API\n",
    "data  <- list(\"request_data_type\" = \"expression\",\n",
    "  \"request_cancer_type\" = c(\"Renal cell carcinoma\", \"Prostate\", \"Adenoid cystic carcinoma\", \"Breast\", \n",
    "                            \"Thyroid\", \"Testicular\", \"Hepatocellular carcinoma\", \"Melanoma\"),\n",
    "#   \"request_genes\" = c(\"ATM\", \"BRCA1\", \"BRCA2\", \"BRIP1\", \"CDK12\", \"FANCA\", \"HDAC2\", \"KRAS\", \n",
    "#                       \"PALB2\", \"SRY\", \"TP53\", \"NOTCH1\", \"CCND1\", \"BARD1\", \"FBLN2\", \"CDKN1B\", \n",
    "#                       \"RB1\", \"CHEK2\", \"APOBEC3B\", \"PALB2\"),  # to define a list of genes here\n",
    "  \"request_genes\" = gene_list,  # if a list of genes is defined in a file\n",
    "  \"request_dataset\" = \"PDX\",\n",
    "  \"request_key\" = \"---\",  # enter your token here\n",
    "  \"request_client\" = 99,\n",
    "  \"request_user\" = 1234,  # enter your user id here\n",
    "  \"request_workspace_id\" = \"1234-99\",  # enter your user id \"XXXX-99\"\n",
    "  \"request_mode\" = 'true') "
   ]
  },
  {
   "cell_type": "code",
   "execution_count": 35,
   "id": "bb94fd15",
   "metadata": {},
   "outputs": [
    {
     "data": {
      "text/plain": [
       "Response [https://lumin-fast-api.championsoncology.com/workstation]\n",
       "  Date: 2021-10-19 20:52\n",
       "  Status: 200\n",
       "  Content-Type: application/json\n",
       "  Size: 75 B\n"
      ]
     },
     "metadata": {},
     "output_type": "display_data"
    }
   ],
   "source": [
    "# Request data from API - this may take some time\n",
    "request  <-  POST(url = 'https://lumin-fast-api.championsoncology.com/WS', \n",
    "                  body = data, encode = 'json')\n",
    "request\n",
    "# A successful request will give \"Status: 200\""
   ]
  },
  {
   "cell_type": "code",
   "execution_count": 36,
   "id": "e3b2622d",
   "metadata": {},
   "outputs": [
    {
     "data": {
      "text/html": [
       "'success, the file you may view your requested data in your root directory'"
      ],
      "text/latex": [
       "'success, the file you may view your requested data in your root directory'"
      ],
      "text/markdown": [
       "'success, the file you may view your requested data in your root directory'"
      ],
      "text/plain": [
       "[1] \"success, the file you may view your requested data in your root directory\""
      ]
     },
     "metadata": {},
     "output_type": "display_data"
    }
   ],
   "source": [
    "# This will save the data file as a .json file in your root directory\n",
    "response <- content(request)\n",
    "response"
   ]
  },
  {
   "cell_type": "code",
   "execution_count": 4,
   "id": "74ecca15",
   "metadata": {},
   "outputs": [],
   "source": [
    "# Enter the file name of the .json file in your root directory below\n",
    "lt  <-  fromJSON(file = \"./data/requested_data---19-10-2021---20_44_20.json\")"
   ]
  },
  {
   "cell_type": "code",
   "execution_count": 5,
   "id": "dd37d55d",
   "metadata": {},
   "outputs": [
    {
     "data": {
      "text/html": [
       "<table>\n",
       "<thead><tr><th scope=col>v1</th><th scope=col>gene_id</th><th scope=col>log.rsem.rpkm</th><th scope=col>log.tpm</th><th scope=col>z</th><th scope=col>fold</th><th scope=col>trans</th><th scope=col>model</th><th scope=col>sort_key</th><th scope=col>gene</th><th scope=col>model_name</th><th scope=col>tumor_type</th></tr></thead>\n",
       "<tbody>\n",
       "\t<tr><td>19463231                                                                                   </td><td>ENSG00000005187                                                                            </td><td>2.03154538924124                                                                           </td><td>2.74114899170484                                                                           </td><td>-0.1693172                                                                                 </td><td>0.876569685689051                                                                          </td><td>ENST00000440284:49.26% ENST00000567387:17.78% ENST00000501740:11.52% ENST00000289416:10.09%</td><td>CTG-3501                                                                                   </td><td>CTG-3501_Expression_1                                                                      </td><td>ACSM3                                                                                      </td><td>CTG-3501                                                                                   </td><td>Breast                                                                                     </td></tr>\n",
       "\t<tr><td>19463234                                    </td><td>ENSG00000005243                             </td><td>0.43494348437293                            </td><td>0.799599647207579                           </td><td>-0.9946150                                  </td><td>0.185174375597962                           </td><td>ENST00000006101:78.76% ENST00000579263:20.8%</td><td>CTG-3501                                    </td><td>CTG-3501_Expression_1                       </td><td>COPZ2                                       </td><td>CTG-3501                                    </td><td>Breast                                      </td></tr>\n",
       "</tbody>\n",
       "</table>\n"
      ],
      "text/latex": [
       "\\begin{tabular}{r|llllllllllll}\n",
       " v1 & gene\\_id & log.rsem.rpkm & log.tpm & z & fold & trans & model & sort\\_key & gene & model\\_name & tumor\\_type\\\\\n",
       "\\hline\n",
       "\t 19463231                                                                                            & ENSG00000005187                                                                                     & 2.03154538924124                                                                                    & 2.74114899170484                                                                                    & -0.1693172                                                                                          & 0.876569685689051                                                                                   & ENST00000440284:49.26\\% ENST00000567387:17.78\\% ENST00000501740:11.52\\% ENST00000289416:10.09\\% & CTG-3501                                                                                            & CTG-3501\\_Expression\\_1                                                                           & ACSM3                                                                                               & CTG-3501                                                                                            & Breast                                                                                             \\\\\n",
       "\t 19463234                                         & ENSG00000005243                                  & 0.43494348437293                                 & 0.799599647207579                                & -0.9946150                                       & 0.185174375597962                                & ENST00000006101:78.76\\% ENST00000579263:20.8\\% & CTG-3501                                         & CTG-3501\\_Expression\\_1                        & COPZ2                                            & CTG-3501                                         & Breast                                          \\\\\n",
       "\\end{tabular}\n"
      ],
      "text/markdown": [
       "\n",
       "| v1 | gene_id | log.rsem.rpkm | log.tpm | z | fold | trans | model | sort_key | gene | model_name | tumor_type |\n",
       "|---|---|---|---|---|---|---|---|---|---|---|---|\n",
       "| 19463231                                                                                    | ENSG00000005187                                                                             | 2.03154538924124                                                                            | 2.74114899170484                                                                            | -0.1693172                                                                                  | 0.876569685689051                                                                           | ENST00000440284:49.26% ENST00000567387:17.78% ENST00000501740:11.52% ENST00000289416:10.09% | CTG-3501                                                                                    | CTG-3501_Expression_1                                                                       | ACSM3                                                                                       | CTG-3501                                                                                    | Breast                                                                                      |\n",
       "| 19463234                                     | ENSG00000005243                              | 0.43494348437293                             | 0.799599647207579                            | -0.9946150                                   | 0.185174375597962                            | ENST00000006101:78.76% ENST00000579263:20.8% | CTG-3501                                     | CTG-3501_Expression_1                        | COPZ2                                        | CTG-3501                                     | Breast                                       |\n",
       "\n"
      ],
      "text/plain": [
       "  v1       gene_id         log.rsem.rpkm    log.tpm           z         \n",
       "1 19463231 ENSG00000005187 2.03154538924124 2.74114899170484  -0.1693172\n",
       "2 19463234 ENSG00000005243 0.43494348437293 0.799599647207579 -0.9946150\n",
       "  fold             \n",
       "1 0.876569685689051\n",
       "2 0.185174375597962\n",
       "  trans                                                                                      \n",
       "1 ENST00000440284:49.26% ENST00000567387:17.78% ENST00000501740:11.52% ENST00000289416:10.09%\n",
       "2 ENST00000006101:78.76% ENST00000579263:20.8%                                               \n",
       "  model    sort_key              gene  model_name tumor_type\n",
       "1 CTG-3501 CTG-3501_Expression_1 ACSM3 CTG-3501   Breast    \n",
       "2 CTG-3501 CTG-3501_Expression_1 COPZ2 CTG-3501   Breast    "
      ]
     },
     "metadata": {},
     "output_type": "display_data"
    },
    {
     "name": "stdout",
     "output_type": "stream",
     "text": [
      "[1] 82800    12\n"
     ]
    }
   ],
   "source": [
    "# Create a dataframe from the data\n",
    "df  <- do.call(rbind, lapply(lt, rbind))\n",
    "df  <- as.data.frame(df)\n",
    "df$tumor_type  <- as.character(df$tumor_type)  # each column is a list - specify data type\n",
    "df$z  <- as.numeric(df$z)\n",
    "head(df, 2)\n",
    "print(dim(df))"
   ]
  },
  {
   "cell_type": "code",
   "execution_count": 6,
   "id": "63ef4004",
   "metadata": {},
   "outputs": [
    {
     "data": {
      "text/html": [
       "<table>\n",
       "<thead><tr><th scope=col>v1</th><th scope=col>gene_id</th><th scope=col>log.rsem.rpkm</th><th scope=col>log.tpm</th><th scope=col>z</th><th scope=col>fold</th><th scope=col>trans</th><th scope=col>model</th><th scope=col>sort_key</th><th scope=col>gene</th><th scope=col>model_name</th><th scope=col>tumor_type</th></tr></thead>\n",
       "<tbody>\n",
       "\t<tr><td>19463231                                                                                   </td><td>ENSG00000005187                                                                            </td><td>2.03154538924124                                                                           </td><td>2.74114899170484                                                                           </td><td>-0.1693172                                                                                 </td><td>0.876569685689051                                                                          </td><td>ENST00000440284:49.26% ENST00000567387:17.78% ENST00000501740:11.52% ENST00000289416:10.09%</td><td>CTG-3501                                                                                   </td><td>CTG-3501_Expression_1                                                                      </td><td>ACSM3                                                                                      </td><td>CTG-3501                                                                                   </td><td>Breast                                                                                     </td></tr>\n",
       "\t<tr><td>3972525                                                             </td><td>ENSG00000005187                                                     </td><td>2.56137935631413                                                    </td><td>3.21443031762327                                                    </td><td> 0.1442849                                                          </td><td>1.1051820496776                                                     </td><td>ENST00000440284:35.32% ENST00000567387:22.97% ENST00000289416:15.38%</td><td>CTG-0718                                                            </td><td>CTG-0718_Expression_1                                               </td><td>ACSM3                                                               </td><td>CTG-0718                                                            </td><td>Melanoma                                                            </td></tr>\n",
       "</tbody>\n",
       "</table>\n"
      ],
      "text/latex": [
       "\\begin{tabular}{r|llllllllllll}\n",
       " v1 & gene\\_id & log.rsem.rpkm & log.tpm & z & fold & trans & model & sort\\_key & gene & model\\_name & tumor\\_type\\\\\n",
       "\\hline\n",
       "\t 19463231                                                                                            & ENSG00000005187                                                                                     & 2.03154538924124                                                                                    & 2.74114899170484                                                                                    & -0.1693172                                                                                          & 0.876569685689051                                                                                   & ENST00000440284:49.26\\% ENST00000567387:17.78\\% ENST00000501740:11.52\\% ENST00000289416:10.09\\% & CTG-3501                                                                                            & CTG-3501\\_Expression\\_1                                                                           & ACSM3                                                                                               & CTG-3501                                                                                            & Breast                                                                                             \\\\\n",
       "\t 3972525                                                                    & ENSG00000005187                                                            & 2.56137935631413                                                           & 3.21443031762327                                                           &  0.1442849                                                                 & 1.1051820496776                                                            & ENST00000440284:35.32\\% ENST00000567387:22.97\\% ENST00000289416:15.38\\% & CTG-0718                                                                   & CTG-0718\\_Expression\\_1                                                  & ACSM3                                                                      & CTG-0718                                                                   & Melanoma                                                                  \\\\\n",
       "\\end{tabular}\n"
      ],
      "text/markdown": [
       "\n",
       "| v1 | gene_id | log.rsem.rpkm | log.tpm | z | fold | trans | model | sort_key | gene | model_name | tumor_type |\n",
       "|---|---|---|---|---|---|---|---|---|---|---|---|\n",
       "| 19463231                                                                                    | ENSG00000005187                                                                             | 2.03154538924124                                                                            | 2.74114899170484                                                                            | -0.1693172                                                                                  | 0.876569685689051                                                                           | ENST00000440284:49.26% ENST00000567387:17.78% ENST00000501740:11.52% ENST00000289416:10.09% | CTG-3501                                                                                    | CTG-3501_Expression_1                                                                       | ACSM3                                                                                       | CTG-3501                                                                                    | Breast                                                                                      |\n",
       "| 3972525                                                              | ENSG00000005187                                                      | 2.56137935631413                                                     | 3.21443031762327                                                     |  0.1442849                                                           | 1.1051820496776                                                      | ENST00000440284:35.32% ENST00000567387:22.97% ENST00000289416:15.38% | CTG-0718                                                             | CTG-0718_Expression_1                                                | ACSM3                                                                | CTG-0718                                                             | Melanoma                                                             |\n",
       "\n"
      ],
      "text/plain": [
       "  v1       gene_id         log.rsem.rpkm    log.tpm          z         \n",
       "1 19463231 ENSG00000005187 2.03154538924124 2.74114899170484 -0.1693172\n",
       "2 3972525  ENSG00000005187 2.56137935631413 3.21443031762327  0.1442849\n",
       "  fold             \n",
       "1 0.876569685689051\n",
       "2 1.1051820496776  \n",
       "  trans                                                                                      \n",
       "1 ENST00000440284:49.26% ENST00000567387:17.78% ENST00000501740:11.52% ENST00000289416:10.09%\n",
       "2 ENST00000440284:35.32% ENST00000567387:22.97% ENST00000289416:15.38%                       \n",
       "  model    sort_key              gene  model_name tumor_type\n",
       "1 CTG-3501 CTG-3501_Expression_1 ACSM3 CTG-3501   Breast    \n",
       "2 CTG-0718 CTG-0718_Expression_1 ACSM3 CTG-0718   Melanoma  "
      ]
     },
     "metadata": {},
     "output_type": "display_data"
    }
   ],
   "source": [
    "# Define a gene of interest\n",
    "gene_choice <- 'ACSM3'\n",
    "df_gene  <- df %>% \n",
    "    na.omit()  %>% \n",
    "    filter(gene==gene_choice)  # put your gene of interest here\n",
    "head(df_gene, 2)"
   ]
  },
  {
   "cell_type": "code",
   "execution_count": 9,
   "id": "41251621",
   "metadata": {
    "scrolled": false
   },
   "outputs": [
    {
     "data": {
      "image/png": "[encoded data removed]",
      "text/plain": [
       "plot without title"
      ]
     },
     "metadata": {},
     "output_type": "display_data"
    }
   ],
   "source": [
    "# Visualize the expression levels by cancer type\n",
    "ggplot(df_gene, aes(x=tumor_type, y=z, fill=tumor_type, color=tumor_type)) +\n",
    "    geom_boxplot(alpha=0.6) +\n",
    "    theme(axis.text.x = element_text(angle = 45, hjust = 1),\n",
    "          legend.position = \"none\", \n",
    "          plot.margin = unit(c(0,0,0,1)+0.1, \"cm\")) +\n",
    "    labs(x=\"\", y=\"Z Score\", \n",
    "         title=paste0(gene_choice, \" RNA expression by cancer type\")) +\n",
    "    scale_fill_brewer(palette=\"BrBG\")"
   ]
  }
 ],
 "metadata": {
  "kernelspec": {
   "display_name": "R",
   "language": "R",
   "name": "ir"
  },
  "language_info": {
   "codemirror_mode": "r",
   "file_extension": ".r",
   "mimetype": "text/x-r-source",
   "name": "R",
   "pygments_lexer": "r",
   "version": "3.6.1"
  }
 },
 "nbformat": 4,
 "nbformat_minor": 5
}
