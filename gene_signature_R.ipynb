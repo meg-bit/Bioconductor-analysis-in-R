{
 "cells": [
  {
   "cell_type": "markdown",
   "id": "b45161ff",
   "metadata": {},
   "source": [
    "### Example notebook for WorkStation - Gene Signature\n",
    "\n",
    "This notebook demonstrates how to score a gene expression dataset against a gene set and provides visualization to interpret the results.\n",
    "\n",
    "- title: \"Gene Signature\"\n",
    "- author: \"Margaret Paiva\"\n",
    "- date: \"28/10/2021\"\n",
    "- output: R notebook"
   ]
  },
  {
   "cell_type": "code",
   "execution_count": 11,
   "id": "a5717201",
   "metadata": {},
   "outputs": [],
   "source": [
    "suppressPackageStartupMessages({\n",
    "    library(rjson)\n",
    "    library(jsonlite)\n",
    "    library(ggplot2)\n",
    "    library(data.table)\n",
    "    library(tidyr)\n",
    "    library(tibble)\n",
    "    library(dplyr)\n",
    "})"
   ]
  },
  {
   "cell_type": "code",
   "execution_count": 3,
   "id": "00b179b2",
   "metadata": {},
   "outputs": [],
   "source": [
    "# Enter the file name of the .json file in your root directory below\n",
    "lt  <-  fromJSON(file = \"../data/requested_data---19-10-2021---20_44_20.json\")"
   ]
  },
  {
   "cell_type": "code",
   "execution_count": 4,
   "id": "2a28fcca",
   "metadata": {},
   "outputs": [
    {
     "data": {
      "text/html": [
       "<table>\n",
       "<thead><tr><th scope=col>v1</th><th scope=col>gene_id</th><th scope=col>log.rsem.rpkm</th><th scope=col>log.tpm</th><th scope=col>z</th><th scope=col>fold</th><th scope=col>trans</th><th scope=col>model</th><th scope=col>sort_key</th><th scope=col>gene</th><th scope=col>model_name</th><th scope=col>tumor_type</th></tr></thead>\n",
       "<tbody>\n",
       "\t<tr><td>19463231                                                                                   </td><td>ENSG00000005187                                                                            </td><td>2.03154538924124                                                                           </td><td>2.7411490                                                                                  </td><td>-0.169317194943646                                                                         </td><td>0.876569685689051                                                                          </td><td>ENST00000440284:49.26% ENST00000567387:17.78% ENST00000501740:11.52% ENST00000289416:10.09%</td><td>CTG-3501                                                                                   </td><td>CTG-3501_Expression_1                                                                      </td><td>ACSM3                                                                                      </td><td>CTG-3501                                                                                   </td><td>Breast                                                                                     </td></tr>\n",
       "\t<tr><td>19463234                                    </td><td>ENSG00000005243                             </td><td>0.43494348437293                            </td><td>0.7995996                                   </td><td>-0.994615041230675                          </td><td>0.185174375597962                           </td><td>ENST00000006101:78.76% ENST00000579263:20.8%</td><td>CTG-3501                                    </td><td>CTG-3501_Expression_1                       </td><td>COPZ2                                       </td><td>CTG-3501                                    </td><td>Breast                                      </td></tr>\n",
       "</tbody>\n",
       "</table>\n"
      ],
      "text/latex": [
       "\\begin{tabular}{r|llllllllllll}\n",
       " v1 & gene\\_id & log.rsem.rpkm & log.tpm & z & fold & trans & model & sort\\_key & gene & model\\_name & tumor\\_type\\\\\n",
       "\\hline\n",
       "\t 19463231                                                                                            & ENSG00000005187                                                                                     & 2.03154538924124                                                                                    & 2.7411490                                                                                           & -0.169317194943646                                                                                  & 0.876569685689051                                                                                   & ENST00000440284:49.26\\% ENST00000567387:17.78\\% ENST00000501740:11.52\\% ENST00000289416:10.09\\% & CTG-3501                                                                                            & CTG-3501\\_Expression\\_1                                                                           & ACSM3                                                                                               & CTG-3501                                                                                            & Breast                                                                                             \\\\\n",
       "\t 19463234                                         & ENSG00000005243                                  & 0.43494348437293                                 & 0.7995996                                        & -0.994615041230675                               & 0.185174375597962                                & ENST00000006101:78.76\\% ENST00000579263:20.8\\% & CTG-3501                                         & CTG-3501\\_Expression\\_1                        & COPZ2                                            & CTG-3501                                         & Breast                                          \\\\\n",
       "\\end{tabular}\n"
      ],
      "text/markdown": [
       "\n",
       "| v1 | gene_id | log.rsem.rpkm | log.tpm | z | fold | trans | model | sort_key | gene | model_name | tumor_type |\n",
       "|---|---|---|---|---|---|---|---|---|---|---|---|\n",
       "| 19463231                                                                                    | ENSG00000005187                                                                             | 2.03154538924124                                                                            | 2.7411490                                                                                   | -0.169317194943646                                                                          | 0.876569685689051                                                                           | ENST00000440284:49.26% ENST00000567387:17.78% ENST00000501740:11.52% ENST00000289416:10.09% | CTG-3501                                                                                    | CTG-3501_Expression_1                                                                       | ACSM3                                                                                       | CTG-3501                                                                                    | Breast                                                                                      |\n",
       "| 19463234                                     | ENSG00000005243                              | 0.43494348437293                             | 0.7995996                                    | -0.994615041230675                           | 0.185174375597962                            | ENST00000006101:78.76% ENST00000579263:20.8% | CTG-3501                                     | CTG-3501_Expression_1                        | COPZ2                                        | CTG-3501                                     | Breast                                       |\n",
       "\n"
      ],
      "text/plain": [
       "  v1       gene_id         log.rsem.rpkm    log.tpm   z                 \n",
       "1 19463231 ENSG00000005187 2.03154538924124 2.7411490 -0.169317194943646\n",
       "2 19463234 ENSG00000005243 0.43494348437293 0.7995996 -0.994615041230675\n",
       "  fold             \n",
       "1 0.876569685689051\n",
       "2 0.185174375597962\n",
       "  trans                                                                                      \n",
       "1 ENST00000440284:49.26% ENST00000567387:17.78% ENST00000501740:11.52% ENST00000289416:10.09%\n",
       "2 ENST00000006101:78.76% ENST00000579263:20.8%                                               \n",
       "  model    sort_key              gene  model_name tumor_type\n",
       "1 CTG-3501 CTG-3501_Expression_1 ACSM3 CTG-3501   Breast    \n",
       "2 CTG-3501 CTG-3501_Expression_1 COPZ2 CTG-3501   Breast    "
      ]
     },
     "metadata": {},
     "output_type": "display_data"
    },
    {
     "name": "stdout",
     "output_type": "stream",
     "text": [
      "[1] 82800    12\n"
     ]
    }
   ],
   "source": [
    "# Create a dataframe from the data\n",
    "df  <- do.call(rbind, lapply(lt, rbind))\n",
    "df  <- as.data.frame(df)\n",
    "df$gene  <- as.character(df$gene)  # each column is a list - specify data type\n",
    "df$log.tpm  <- as.numeric(df$log.tpm)\n",
    "head(df, 2)\n",
    "print(dim(df))"
   ]
  }
 ],
 "metadata": {
  "kernelspec": {
   "display_name": "R",
   "language": "R",
   "name": "ir"
  },
  "language_info": {
   "codemirror_mode": "r",
   "file_extension": ".r",
   "mimetype": "text/x-r-source",
   "name": "R",
   "pygments_lexer": "r",
   "version": "3.6.1"
  }
 },
 "nbformat": 4,
 "nbformat_minor": 5
}
