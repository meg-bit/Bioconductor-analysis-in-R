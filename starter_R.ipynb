{
 "cells": [
  {
   "cell_type": "markdown",
   "id": "19392be4",
   "metadata": {},
   "source": [
    "To run a query on the champions database in R, use the following scheme."
   ]
  },
  {
   "cell_type": "markdown",
   "id": "71819e98",
   "metadata": {},
   "source": [
    "- title: \"Starter notebook to query data from Lumin API and plot a heatmap\"\n",
    "- author: \"Margaret Paiva\"\n",
    "- author: \"Lior Beyderman\"\n",
    "- date: \"11/10/2021\"\n",
    "- output: R notebook"
   ]
  },
  {
   "cell_type": "code",
   "execution_count": 1,
   "id": "c852889a",
   "metadata": {
    "scrolled": false
   },
   "outputs": [],
   "source": [
    "# install.packages(c(\"httr\", \"jsonlite\", \"rjson\", \"data.table\", \"viridis\"))"
   ]
  },
  {
   "cell_type": "code",
   "execution_count": 2,
   "id": "f71c3993",
   "metadata": {
    "scrolled": true
   },
   "outputs": [],
   "source": [
    "# Install the above packages if any of the following librares cannot be loaded\n",
    "suppressPackageStartupMessages(library(httr))\n",
    "suppressPackageStartupMessages(library(jsonlite))\n",
    "suppressPackageStartupMessages(library(rjson))\n",
    "suppressPackageStartupMessages(library(dplyr))\n",
    "suppressPackageStartupMessages(library(data.table))\n",
    "suppressPackageStartupMessages(library(ggplot2))\n",
    "suppressPackageStartupMessages(library(viridis))"
   ]
  },
  {
   "cell_type": "code",
   "execution_count": 3,
   "id": "da309595",
   "metadata": {},
   "outputs": [],
   "source": [
    "# Define the data to query\n",
    "data  <- list(\"request_data_type\" = \"expression\",\n",
    "  \"request_cancer_type\" = list(\"all\"),\n",
    "  \"request_genes\" = c(\"ATM\", \"BRCA1\", \"BRCA2\", \"BRIP1\", \n",
    "                      \"CDK12\", \"CHEK2\", \"FANCA\", \"HDAC2\", \n",
    "                      \"KRAS\", \"PALB2\", \"SRY\", \"TP53\", \"NOTCH1\"),\n",
    "  \"request_models\" = c(\"CTG-0009\", \"CTG-0011\", \"CTG-0012\", \n",
    "                       \"CTG-0017\", \"CTG-0018\", \"CTG-0019\", \"CTG-0033\"),\n",
    "  \"request_dataset\" = \"PDX\",\n",
    "  \"request_key\" = \"d787ddc1e45f4ac2b68ac43419500515\",\n",
    "  \"request_client\" = 99,\n",
    "  \"request_user\" = 99,\n",
    "  \"request_mode\" = 'true') "
   ]
  },
  {
   "cell_type": "code",
   "execution_count": 4,
   "id": "3dfbc867",
   "metadata": {},
   "outputs": [
    {
     "data": {
      "text/plain": [
       "Response [https://lumin-fast-api.championsoncology.com/workstation]\n",
       "  Date: 2021-10-12 15:00\n",
       "  Status: 200\n",
       "  Content-Type: application/json\n",
       "  Size: 75 B\n"
      ]
     },
     "metadata": {},
     "output_type": "display_data"
    }
   ],
   "source": [
    "request  <-  POST(url = 'https://lumin-fast-api.championsoncology.com/workstation', \n",
    "                  body = data, encode = 'json')\n",
    "request\n",
    "# A successful request will give \"Status: 200\""
   ]
  },
  {
   "cell_type": "code",
   "execution_count": 5,
   "id": "66e44972",
   "metadata": {},
   "outputs": [
    {
     "data": {
      "text/html": [
       "'success, the file you may view your requested data in your root directory'"
      ],
      "text/latex": [
       "'success, the file you may view your requested data in your root directory'"
      ],
      "text/markdown": [
       "'success, the file you may view your requested data in your root directory'"
      ],
      "text/plain": [
       "[1] \"success, the file you may view your requested data in your root directory\""
      ]
     },
     "metadata": {},
     "output_type": "display_data"
    }
   ],
   "source": [
    "# This will save the data file as a .json file in your root directory\n",
    "response <- content(request)\n",
    "response"
   ]
  },
  {
   "cell_type": "code",
   "execution_count": 6,
   "id": "e20a359f",
   "metadata": {},
   "outputs": [],
   "source": [
    "# Enter the file name of the .json file in your root directory below\n",
    "lt = fromJSON(file = \"../requested_data---11-10-2021---19:16:03.json\")"
   ]
  },
  {
   "cell_type": "code",
   "execution_count": 7,
   "id": "0ee28f61",
   "metadata": {},
   "outputs": [
    {
     "data": {
      "text/html": [
       "<table class=\"dataframe\">\n",
       "<caption>A data.frame: 2 × 12</caption>\n",
       "<thead>\n",
       "\t<tr><th></th><th scope=col>v1</th><th scope=col>gene_id</th><th scope=col>log.rsem.rpkm</th><th scope=col>log.tpm</th><th scope=col>z</th><th scope=col>fold</th><th scope=col>trans</th><th scope=col>model</th><th scope=col>sort_key</th><th scope=col>gene</th><th scope=col>model_name</th><th scope=col>tumor_type</th></tr>\n",
       "\t<tr><th></th><th scope=col>&lt;list&gt;</th><th scope=col>&lt;list&gt;</th><th scope=col>&lt;list&gt;</th><th scope=col>&lt;list&gt;</th><th scope=col>&lt;list&gt;</th><th scope=col>&lt;list&gt;</th><th scope=col>&lt;list&gt;</th><th scope=col>&lt;list&gt;</th><th scope=col>&lt;list&gt;</th><th scope=col>&lt;list&gt;</th><th scope=col>&lt;list&gt;</th><th scope=col>&lt;list&gt;</th></tr>\n",
       "</thead>\n",
       "<tbody>\n",
       "\t<tr><th scope=row>1</th><td>54725</td><td>ENSG00000012048</td><td>2.75866371659715</td><td>3.74181592469265</td><td>-0.751531639773822</td><td>0.833794342322239</td><td>ENST00000357654:55.59% ENST00000591534:10.61%</td><td>CTG-0017</td><td>CTG-0017_Expression_1</td><td>BRCA1</td><td>CTG-0017</td><td>Breast</td></tr>\n",
       "\t<tr><th scope=row>2</th><td>55993</td><td>ENSG00000083093</td><td>2.71681207513467</td><td>3.69941003545083</td><td>-0.864175018181405</td><td>0.864074252601595</td><td>ENST00000261584:87.13% ENST00000566069:10.39%</td><td>CTG-0017</td><td>CTG-0017_Expression_1</td><td>PALB2</td><td>CTG-0017</td><td>Breast</td></tr>\n",
       "</tbody>\n",
       "</table>\n"
      ],
      "text/latex": [
       "A data.frame: 2 × 12\n",
       "\\begin{tabular}{r|llllllllllll}\n",
       "  & v1 & gene\\_id & log.rsem.rpkm & log.tpm & z & fold & trans & model & sort\\_key & gene & model\\_name & tumor\\_type\\\\\n",
       "  & <list> & <list> & <list> & <list> & <list> & <list> & <list> & <list> & <list> & <list> & <list> & <list>\\\\\n",
       "\\hline\n",
       "\t1 & 54725 & ENSG00000012048 & 2.75866371659715 & 3.74181592469265 & -0.751531639773822 & 0.833794342322239 & ENST00000357654:55.59\\% ENST00000591534:10.61\\% & CTG-0017 & CTG-0017\\_Expression\\_1 & BRCA1 & CTG-0017 & Breast\\\\\n",
       "\t2 & 55993 & ENSG00000083093 & 2.71681207513467 & 3.69941003545083 & -0.864175018181405 & 0.864074252601595 & ENST00000261584:87.13\\% ENST00000566069:10.39\\% & CTG-0017 & CTG-0017\\_Expression\\_1 & PALB2 & CTG-0017 & Breast\\\\\n",
       "\\end{tabular}\n"
      ],
      "text/markdown": [
       "\n",
       "A data.frame: 2 × 12\n",
       "\n",
       "| <!--/--> | v1 &lt;list&gt; | gene_id &lt;list&gt; | log.rsem.rpkm &lt;list&gt; | log.tpm &lt;list&gt; | z &lt;list&gt; | fold &lt;list&gt; | trans &lt;list&gt; | model &lt;list&gt; | sort_key &lt;list&gt; | gene &lt;list&gt; | model_name &lt;list&gt; | tumor_type &lt;list&gt; |\n",
       "|---|---|---|---|---|---|---|---|---|---|---|---|---|\n",
       "| 1 | 54725 | ENSG00000012048 | 2.75866371659715 | 3.74181592469265 | -0.751531639773822 | 0.833794342322239 | ENST00000357654:55.59% ENST00000591534:10.61% | CTG-0017 | CTG-0017_Expression_1 | BRCA1 | CTG-0017 | Breast |\n",
       "| 2 | 55993 | ENSG00000083093 | 2.71681207513467 | 3.69941003545083 | -0.864175018181405 | 0.864074252601595 | ENST00000261584:87.13% ENST00000566069:10.39% | CTG-0017 | CTG-0017_Expression_1 | PALB2 | CTG-0017 | Breast |\n",
       "\n"
      ],
      "text/plain": [
       "  v1    gene_id         log.rsem.rpkm    log.tpm          z                 \n",
       "1 54725 ENSG00000012048 2.75866371659715 3.74181592469265 -0.751531639773822\n",
       "2 55993 ENSG00000083093 2.71681207513467 3.69941003545083 -0.864175018181405\n",
       "  fold              trans                                         model   \n",
       "1 0.833794342322239 ENST00000357654:55.59% ENST00000591534:10.61% CTG-0017\n",
       "2 0.864074252601595 ENST00000261584:87.13% ENST00000566069:10.39% CTG-0017\n",
       "  sort_key              gene  model_name tumor_type\n",
       "1 CTG-0017_Expression_1 BRCA1 CTG-0017   Breast    \n",
       "2 CTG-0017_Expression_1 PALB2 CTG-0017   Breast    "
      ]
     },
     "metadata": {},
     "output_type": "display_data"
    }
   ],
   "source": [
    "# Create a dataframe from the data\n",
    "df  <- do.call(rbind, lapply(lt, rbind))\n",
    "df  <- as.data.frame(df)\n",
    "head(df, n = 2)"
   ]
  },
  {
   "cell_type": "code",
   "execution_count": 8,
   "id": "d1169159",
   "metadata": {},
   "outputs": [
    {
     "data": {
      "image/png": "[encoded data removed]",
      "text/plain": [
       "plot without title"
      ]
     },
     "metadata": {
      "image/png": {
       "height": 420,
       "width": 420
      }
     },
     "output_type": "display_data"
    }
   ],
   "source": [
    "# Set the data type before plotting\n",
    "df$gene  <- as.character(df$gene)\n",
    "df$model  <- as.character(df$model)\n",
    "df$log.tpm  <- as.numeric(df$log.tpm)\n",
    "# Plot a heatmap\n",
    "ggplot(df, aes(x = model, y = gene, fill = log.tpm)) +\n",
    "  geom_tile() +\n",
    "  scale_fill_viridis()"
   ]
  }
 ],
 "metadata": {
  "kernelspec": {
   "display_name": "R",
   "language": "R",
   "name": "ir"
  },
  "language_info": {
   "codemirror_mode": "r",
   "file_extension": ".r",
   "mimetype": "text/x-r-source",
   "name": "R",
   "pygments_lexer": "r",
   "version": "4.1.1"
  }
 },
 "nbformat": 4,
 "nbformat_minor": 5
}
