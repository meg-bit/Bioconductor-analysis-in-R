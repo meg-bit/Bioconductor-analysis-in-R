{
 "cells": [
  {
   "cell_type": "markdown",
   "id": "20c3df21",
   "metadata": {},
   "source": [
    "### Example notebook for WorkStation - Differential Gene Expression\n",
    "\n",
    "This notebook demonstrates reading from API and performing analysis of differential gene expression.\n",
    "- title: \"Differential Gene Expression (DGE)\"\n",
    "- author: \"Margaret Paiva\"\n",
    "- author: \"Jon Katz\"\n",
    "- date: \"19/10/2021\"\n",
    "- output: R notebook"
   ]
  },
  {
   "cell_type": "code",
   "execution_count": 7,
   "id": "824b13bc",
   "metadata": {},
   "outputs": [
    {
     "data": {
      "text/plain": [
       "               _                           \n",
       "platform       x86_64-w64-mingw32          \n",
       "arch           x86_64                      \n",
       "os             mingw32                     \n",
       "system         x86_64, mingw32             \n",
       "status                                     \n",
       "major          3                           \n",
       "minor          6.1                         \n",
       "year           2019                        \n",
       "month          07                          \n",
       "day            05                          \n",
       "svn rev        76782                       \n",
       "language       R                           \n",
       "version.string R version 3.6.1 (2019-07-05)\n",
       "nickname       Action of the Toes          "
      ]
     },
     "metadata": {},
     "output_type": "display_data"
    }
   ],
   "source": [
    "# Check your R version if packages are not compatible\n",
    "R.version"
   ]
  },
  {
   "cell_type": "code",
   "execution_count": 4,
   "id": "1bc238db",
   "metadata": {},
   "outputs": [],
   "source": [
    "# # Install BiocManager\n",
    "# if (!requireNamespace(\"BiocManager\", quietly = TRUE))\n",
    "#     install.packages(\"BiocManager\")"
   ]
  },
  {
   "cell_type": "code",
   "execution_count": 3,
   "id": "fed55959",
   "metadata": {},
   "outputs": [],
   "source": [
    "# # Install packages using BiocManager\n",
    "# for (pkg in c(\"limma\", \"fgsea\")) {\n",
    "#     if (!requireNamespace(pkg, quietly = TRUE)) {\n",
    "#         BiocManager::install(pkg, update = FALSE, ask = FALSE)\n",
    "#     }\n",
    "# }"
   ]
  },
  {
   "cell_type": "code",
   "execution_count": 6,
   "id": "310629d8",
   "metadata": {},
   "outputs": [
    {
     "name": "stderr",
     "output_type": "stream",
     "text": [
      "Warning message:\n",
      "\"package 'dplyr' was built under R version 3.6.3\"Warning message:\n",
      "\"package 'limma' was built under R version 3.6.2\"Warning message:\n",
      "\"package 'tidyr' was built under R version 3.6.3\"Warning message:\n",
      "\"package 'viridisLite' was built under R version 3.6.3\""
     ]
    }
   ],
   "source": [
    "suppressPackageStartupMessages(library(jsonlite))\n",
    "suppressPackageStartupMessages(library(rjson))\n",
    "suppressPackageStartupMessages(library(dplyr))\n",
    "suppressPackageStartupMessages(library(data.table))\n",
    "suppressPackageStartupMessages(library(parallel))\n",
    "suppressPackageStartupMessages(library(limma))\n",
    "suppressPackageStartupMessages(library(fgsea))\n",
    "suppressPackageStartupMessages(library(tidyr))\n",
    "suppressPackageStartupMessages(library(ggplot2))\n",
    "suppressPackageStartupMessages(library(viridis))"
   ]
  }
 ],
 "metadata": {
  "kernelspec": {
   "display_name": "R",
   "language": "R",
   "name": "ir"
  },
  "language_info": {
   "codemirror_mode": "r",
   "file_extension": ".r",
   "mimetype": "text/x-r-source",
   "name": "R",
   "pygments_lexer": "r",
   "version": "3.6.1"
  }
 },
 "nbformat": 4,
 "nbformat_minor": 5
}
