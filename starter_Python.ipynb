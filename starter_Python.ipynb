{
 "cells": [
  {
   "cell_type": "markdown",
   "metadata": {
    "pycharm": {
     "name": "#%% md\n"
    }
   },
   "source": [
    "To run a query on the champions database use the following scheme"
   ]
  },
  {
   "cell_type": "code",
   "execution_count": 3,
   "metadata": {},
   "outputs": [],
   "source": [
    "# !pip install requests"
   ]
  },
  {
   "cell_type": "code",
   "execution_count": 4,
   "metadata": {
    "pycharm": {
     "name": "#%%\n"
    }
   },
   "outputs": [],
   "source": [
    "import requests"
   ]
  },
  {
   "cell_type": "markdown",
   "metadata": {},
   "source": [
    "Request the data from the champions API available over the workstation network"
   ]
  },
  {
   "cell_type": "code",
   "execution_count": 13,
   "metadata": {
    "pycharm": {
     "name": "#%%\n"
    }
   },
   "outputs": [],
   "source": [
    "# data = {\n",
    "#   \"request_data_type\": \"expression\",\n",
    "#   \"request_cancer_type\": [\"all\"],\n",
    "#   \"request_genes\": [\"AKT1\"],\n",
    "#   \"request_models\": [],\n",
    "#   \"request_dataset\": \"PDX\",\n",
    "#   \"request_key\": \"your generated key\",\n",
    "#   \"request_mode\": 'true'\n",
    "# }\n",
    "# response = requests.post('https://lumin-fast-api.championsoncology.com/workstation',json=data)"
   ]
  },
  {
   "cell_type": "markdown",
   "metadata": {},
   "source": [
    "The full set of models, cancer types, and genes are available within the requests folder."
   ]
  },
  {
   "cell_type": "markdown",
   "metadata": {},
   "source": [
    "An example of a request you could run:"
   ]
  },
  {
   "cell_type": "code",
   "execution_count": 5,
   "metadata": {
    "pycharm": {
     "name": "#%%\n"
    }
   },
   "outputs": [],
   "source": [
    "data = {\n",
    "  \"request_data_type\": \"expression\",\n",
    "  \"request_cancer_type\": [\"all\"],\n",
    "  \"request_genes\": [\"ATM\", \"BRCA1\", \"BRCA2\", \"BRIP1\", \"CDK12\", \"CHEK2\", \"FANCA\", \"HDAC2\", \"KRAS\", \"PALB2\", \"SRY\", \"TP53\", \"NOTCH1\"],\n",
    "  \"request_models\": [\"CTG-0009\", \"CTG-0011\", \"CTG-0012\", \"CTG-0017\", \"CTG-0018\", \"CTG-0019\", \"CTG-0033\"],\n",
    "  \"request_dataset\": \"PDX\",\n",
    "  \"request_key\": \"---\",  # enter your token here\n",
    "  \"request_client\": 99,\n",
    "  \"request_user\": 99,\n",
    "  \"request_mode\": 'true'\n",
    "}\n",
    "response = requests.post('https://lumin-fast-api.championsoncology.com/workstation', json=data)"
   ]
  },
  {
   "cell_type": "code",
   "execution_count": 7,
   "metadata": {
    "pycharm": {
     "name": "#%%\n"
    }
   },
   "outputs": [],
   "source": [
    "print(response.json())"
   ]
  },
  {
   "cell_type": "markdown",
   "metadata": {},
   "source": [
    "The response object will be returned as json and is generated into your root folder structure"
   ]
  },
  {
   "cell_type": "code",
   "execution_count": 4,
   "metadata": {
    "pycharm": {
     "name": "#%%\n"
    }
   },
   "outputs": [
    {
     "data": {
      "text/plain": [
       "[{'v1': 12542076,\n",
       "  'gene_id': 'ENSG00000142208',\n",
       "  'log.rsem.rpkm': '5.92682228739914',\n",
       "  'log.tpm': '6.50015325228395',\n",
       "  'z': '0.06432156228114',\n",
       "  'fold': '1.00825623784295',\n",
       "  'trans': 'ENST00000407796:92%',\n",
       "  'model': 'CTG-2067',\n",
       "  'sort_key': 'CTG-2067_Expression_1',\n",
       "  'gene': 'AKT1',\n",
       "  'partition_0': 'CTG-2067'},\n",
       " {'v1': 2946545,\n",
       "  'gene_id': 'ENSG00000142208',\n",
       "  'log.rsem.rpkm': '6.00143443992071',\n",
       "  'log.tpm': '6.96288606798328',\n",
       "  'z': '0.163207143461503',\n",
       "  'fold': '1.02094907129583',\n",
       "  'trans': 'ENST00000407796:57.93%',\n",
       "  'model': 'CTG-0436',\n",
       "  'sort_key': 'CTG-0436_Expression_1',\n",
       "  'gene': 'AKT1'}]"
      ]
     },
     "execution_count": 4,
     "metadata": {},
     "output_type": "execute_result"
    }
   ],
   "source": [
    "[{\"v1\":12542076,\"gene_id\":\"ENSG00000142208\",\"log.rsem.rpkm\":\"5.92682228739914\",\"log.tpm\":\"6.50015325228395\",\"z\":\"0.06432156228114\",\"fold\":\"1.00825623784295\",\"trans\":\"ENST00000407796:92%\",\"model\":\"CTG-2067\",\"sort_key\":\"CTG-2067_Expression_1\",\"gene\":\"AKT1\",\"partition_0\":\"CTG-2067\"},{\"v1\":2946545,\"gene_id\":\"ENSG00000142208\",\"log.rsem.rpkm\":\"6.00143443992071\",\"log.tpm\":\"6.96288606798328\",\"z\":\"0.163207143461503\",\"fold\":\"1.02094907129583\",\"trans\":\"ENST00000407796:57.93%\",\"model\":\"CTG-0436\",\"sort_key\":\"CTG-0436_Expression_1\",\"gene\":\"AKT1\"}]"
   ]
  },
  {
   "cell_type": "markdown",
   "metadata": {},
   "source": [
    "Import the pandas library"
   ]
  },
  {
   "cell_type": "code",
   "execution_count": 17,
   "metadata": {
    "pycharm": {
     "name": "#%%\n"
    }
   },
   "outputs": [],
   "source": [
    "import pandas as pd"
   ]
  },
  {
   "cell_type": "markdown",
   "metadata": {
    "pycharm": {
     "name": "#%% md\n"
    }
   },
   "source": [
    "Load your data into a pandas dataframe"
   ]
  },
  {
   "cell_type": "code",
   "execution_count": 18,
   "metadata": {
    "pycharm": {
     "name": "#%%\n"
    }
   },
   "outputs": [
    {
     "data": {
      "text/html": [
       "<div>\n",
       "<style scoped>\n",
       "    .dataframe tbody tr th:only-of-type {\n",
       "        vertical-align: middle;\n",
       "    }\n",
       "\n",
       "    .dataframe tbody tr th {\n",
       "        vertical-align: top;\n",
       "    }\n",
       "\n",
       "    .dataframe thead th {\n",
       "        text-align: right;\n",
       "    }\n",
       "</style>\n",
       "<table border=\"1\" class=\"dataframe\">\n",
       "  <thead>\n",
       "    <tr style=\"text-align: right;\">\n",
       "      <th></th>\n",
       "      <th>v1</th>\n",
       "      <th>gene_id</th>\n",
       "      <th>log.rsem.rpkm</th>\n",
       "      <th>log.tpm</th>\n",
       "      <th>z</th>\n",
       "      <th>fold</th>\n",
       "      <th>trans</th>\n",
       "      <th>model</th>\n",
       "      <th>sort_key</th>\n",
       "      <th>gene</th>\n",
       "      <th>model_name</th>\n",
       "      <th>tumor_type</th>\n",
       "    </tr>\n",
       "  </thead>\n",
       "  <tbody>\n",
       "    <tr>\n",
       "      <th>0</th>\n",
       "      <td>308</td>\n",
       "      <td>ENSG00000012048</td>\n",
       "      <td>2.406601</td>\n",
       "      <td>3.005879</td>\n",
       "      <td>-1.232682</td>\n",
       "      <td>0.727385</td>\n",
       "      <td>ENST00000357654:34.62% ENST00000351666:18.44% ...</td>\n",
       "      <td>CTG-0009</td>\n",
       "      <td>CTG-0009_Expression_1</td>\n",
       "      <td>BRCA1</td>\n",
       "      <td>CTG-0009</td>\n",
       "      <td>Adenoid cystic carcinoma</td>\n",
       "    </tr>\n",
       "    <tr>\n",
       "      <th>1</th>\n",
       "      <td>1576</td>\n",
       "      <td>ENSG00000083093</td>\n",
       "      <td>3.146205</td>\n",
       "      <td>3.799950</td>\n",
       "      <td>0.004078</td>\n",
       "      <td>1.000641</td>\n",
       "      <td>ENST00000261584:47.98% ENST00000566069:28.02% ...</td>\n",
       "      <td>CTG-0009</td>\n",
       "      <td>CTG-0009_Expression_1</td>\n",
       "      <td>PALB2</td>\n",
       "      <td>CTG-0009</td>\n",
       "      <td>Adenoid cystic carcinoma</td>\n",
       "    </tr>\n",
       "  </tbody>\n",
       "</table>\n",
       "</div>"
      ],
      "text/plain": [
       "     v1          gene_id  log.rsem.rpkm   log.tpm         z      fold  \\\n",
       "0   308  ENSG00000012048       2.406601  3.005879 -1.232682  0.727385   \n",
       "1  1576  ENSG00000083093       3.146205  3.799950  0.004078  1.000641   \n",
       "\n",
       "                                               trans     model  \\\n",
       "0  ENST00000357654:34.62% ENST00000351666:18.44% ...  CTG-0009   \n",
       "1  ENST00000261584:47.98% ENST00000566069:28.02% ...  CTG-0009   \n",
       "\n",
       "                sort_key   gene model_name                tumor_type  \n",
       "0  CTG-0009_Expression_1  BRCA1   CTG-0009  Adenoid cystic carcinoma  \n",
       "1  CTG-0009_Expression_1  PALB2   CTG-0009  Adenoid cystic carcinoma  "
      ]
     },
     "execution_count": 18,
     "metadata": {},
     "output_type": "execute_result"
    }
   ],
   "source": [
    "df = pd.read_json('../requested_data---11-10-2021---17:48:41.json')\n",
    "\n",
    "df.head(2)\n",
    "\n",
    "#sample_json = [{\"v1\":12542076,\"gene_id\":\"ENSG00000142208\",\"log.rsem.rpkm\":\"5.92682228739914\",\"log.tpm\":\"6.50015325228395\",\"z\":\"0.06432156228114\",\"fold\":\"1.00825623784295\",\"trans\":\"ENST00000407796:92%\",\"model\":\"CTG-2067\",\"sort_key\":\"CTG-2067_Expression_1\",\"gene\":\"AKT1\",\"partition_0\":\"CTG-2067\"},{\"v1\":2946545,\"gene_id\":\"ENSG00000142208\",\"log.rsem.rpkm\":\"6.00143443992071\",\"log.tpm\":\"6.96288606798328\",\"z\":\"0.163207143461503\",\"fold\":\"1.02094907129583\",\"trans\":\"ENST00000407796:57.93%\",\"model\":\"CTG-0436\",\"sort_key\":\"CTG-0436_Expression_1\",\"gene\":\"AKT1\"}]\n",
    "\n",
    "#df2 = pd.read_json(sample_json)"
   ]
  },
  {
   "cell_type": "code",
   "execution_count": 8,
   "metadata": {},
   "outputs": [],
   "source": [
    "import seaborn as sns\n",
    "import matplotlib.pyplot as plt"
   ]
  },
  {
   "cell_type": "code",
   "execution_count": 10,
   "metadata": {},
   "outputs": [
    {
     "data": {
      "image/png": "[encoded data removed]",
      "text/plain": [
       "<Figure size 432x288 with 2 Axes>"
      ]
     },
     "metadata": {
      "needs_background": "light"
     },
     "output_type": "display_data"
    }
   ],
   "source": [
    "result = df.pivot(index='gene', columns='model', values='log.tpm')\n",
    "\n",
    "sns.heatmap(result, fmt=\"g\", cmap='viridis')\n",
    "plt.show()"
   ]
  },
  {
   "cell_type": "code",
   "execution_count": 11,
   "metadata": {},
   "outputs": [
    {
     "data": {
      "text/html": [
       "<div>\n",
       "<style scoped>\n",
       "    .dataframe tbody tr th:only-of-type {\n",
       "        vertical-align: middle;\n",
       "    }\n",
       "\n",
       "    .dataframe tbody tr th {\n",
       "        vertical-align: top;\n",
       "    }\n",
       "\n",
       "    .dataframe thead th {\n",
       "        text-align: right;\n",
       "    }\n",
       "</style>\n",
       "<table border=\"1\" class=\"dataframe\">\n",
       "  <thead>\n",
       "    <tr style=\"text-align: right;\">\n",
       "      <th>model</th>\n",
       "      <th>CTG-0009</th>\n",
       "      <th>CTG-0011</th>\n",
       "      <th>CTG-0012</th>\n",
       "      <th>CTG-0017</th>\n",
       "      <th>CTG-0018</th>\n",
       "      <th>CTG-0019</th>\n",
       "      <th>CTG-0033</th>\n",
       "    </tr>\n",
       "    <tr>\n",
       "      <th>gene</th>\n",
       "      <th></th>\n",
       "      <th></th>\n",
       "      <th></th>\n",
       "      <th></th>\n",
       "      <th></th>\n",
       "      <th></th>\n",
       "      <th></th>\n",
       "    </tr>\n",
       "  </thead>\n",
       "  <tbody>\n",
       "    <tr>\n",
       "      <th>ATM</th>\n",
       "      <td>6.048809</td>\n",
       "      <td>3.695959</td>\n",
       "      <td>5.324261</td>\n",
       "      <td>3.881731</td>\n",
       "      <td>2.689335</td>\n",
       "      <td>4.778746</td>\n",
       "      <td>3.604976</td>\n",
       "    </tr>\n",
       "    <tr>\n",
       "      <th>BRCA1</th>\n",
       "      <td>3.005879</td>\n",
       "      <td>4.309124</td>\n",
       "      <td>3.079211</td>\n",
       "      <td>3.741816</td>\n",
       "      <td>3.383718</td>\n",
       "      <td>4.439801</td>\n",
       "      <td>2.562520</td>\n",
       "    </tr>\n",
       "    <tr>\n",
       "      <th>BRCA2</th>\n",
       "      <td>2.612277</td>\n",
       "      <td>1.771035</td>\n",
       "      <td>3.245162</td>\n",
       "      <td>3.131647</td>\n",
       "      <td>2.173149</td>\n",
       "      <td>3.427874</td>\n",
       "      <td>3.418333</td>\n",
       "    </tr>\n",
       "    <tr>\n",
       "      <th>BRIP1</th>\n",
       "      <td>3.227825</td>\n",
       "      <td>2.798589</td>\n",
       "      <td>3.664485</td>\n",
       "      <td>3.467681</td>\n",
       "      <td>2.173572</td>\n",
       "      <td>3.539603</td>\n",
       "      <td>3.457129</td>\n",
       "    </tr>\n",
       "    <tr>\n",
       "      <th>CDK12</th>\n",
       "      <td>5.076141</td>\n",
       "      <td>4.703391</td>\n",
       "      <td>4.286160</td>\n",
       "      <td>4.086470</td>\n",
       "      <td>4.212933</td>\n",
       "      <td>4.840801</td>\n",
       "      <td>4.096867</td>\n",
       "    </tr>\n",
       "    <tr>\n",
       "      <th>CHEK2</th>\n",
       "      <td>4.442894</td>\n",
       "      <td>3.259121</td>\n",
       "      <td>5.499438</td>\n",
       "      <td>5.186547</td>\n",
       "      <td>4.480951</td>\n",
       "      <td>4.925794</td>\n",
       "      <td>3.620786</td>\n",
       "    </tr>\n",
       "    <tr>\n",
       "      <th>FANCA</th>\n",
       "      <td>3.470169</td>\n",
       "      <td>4.664768</td>\n",
       "      <td>4.473634</td>\n",
       "      <td>6.318962</td>\n",
       "      <td>3.975797</td>\n",
       "      <td>4.002422</td>\n",
       "      <td>5.243791</td>\n",
       "    </tr>\n",
       "    <tr>\n",
       "      <th>HDAC2</th>\n",
       "      <td>7.380528</td>\n",
       "      <td>6.956048</td>\n",
       "      <td>7.188059</td>\n",
       "      <td>8.247359</td>\n",
       "      <td>6.623563</td>\n",
       "      <td>8.674050</td>\n",
       "      <td>7.050501</td>\n",
       "    </tr>\n",
       "    <tr>\n",
       "      <th>KRAS</th>\n",
       "      <td>3.895217</td>\n",
       "      <td>5.844683</td>\n",
       "      <td>5.477790</td>\n",
       "      <td>5.248287</td>\n",
       "      <td>4.947568</td>\n",
       "      <td>5.479305</td>\n",
       "      <td>5.145076</td>\n",
       "    </tr>\n",
       "    <tr>\n",
       "      <th>NOTCH1</th>\n",
       "      <td>4.791276</td>\n",
       "      <td>1.773608</td>\n",
       "      <td>5.895624</td>\n",
       "      <td>6.025112</td>\n",
       "      <td>1.993999</td>\n",
       "      <td>2.618996</td>\n",
       "      <td>4.922705</td>\n",
       "    </tr>\n",
       "    <tr>\n",
       "      <th>PALB2</th>\n",
       "      <td>3.799950</td>\n",
       "      <td>3.396950</td>\n",
       "      <td>4.055603</td>\n",
       "      <td>3.699410</td>\n",
       "      <td>3.563020</td>\n",
       "      <td>3.489316</td>\n",
       "      <td>3.566488</td>\n",
       "    </tr>\n",
       "    <tr>\n",
       "      <th>SRY</th>\n",
       "      <td>0.000000</td>\n",
       "      <td>0.000000</td>\n",
       "      <td>0.000000</td>\n",
       "      <td>0.000000</td>\n",
       "      <td>0.000000</td>\n",
       "      <td>0.000000</td>\n",
       "      <td>0.000000</td>\n",
       "    </tr>\n",
       "    <tr>\n",
       "      <th>TP53</th>\n",
       "      <td>5.859000</td>\n",
       "      <td>1.802825</td>\n",
       "      <td>5.860707</td>\n",
       "      <td>7.865521</td>\n",
       "      <td>2.543594</td>\n",
       "      <td>3.166362</td>\n",
       "      <td>5.042962</td>\n",
       "    </tr>\n",
       "  </tbody>\n",
       "</table>\n",
       "</div>"
      ],
      "text/plain": [
       "model   CTG-0009  CTG-0011  CTG-0012  CTG-0017  CTG-0018  CTG-0019  CTG-0033\n",
       "gene                                                                        \n",
       "ATM     6.048809  3.695959  5.324261  3.881731  2.689335  4.778746  3.604976\n",
       "BRCA1   3.005879  4.309124  3.079211  3.741816  3.383718  4.439801  2.562520\n",
       "BRCA2   2.612277  1.771035  3.245162  3.131647  2.173149  3.427874  3.418333\n",
       "BRIP1   3.227825  2.798589  3.664485  3.467681  2.173572  3.539603  3.457129\n",
       "CDK12   5.076141  4.703391  4.286160  4.086470  4.212933  4.840801  4.096867\n",
       "CHEK2   4.442894  3.259121  5.499438  5.186547  4.480951  4.925794  3.620786\n",
       "FANCA   3.470169  4.664768  4.473634  6.318962  3.975797  4.002422  5.243791\n",
       "HDAC2   7.380528  6.956048  7.188059  8.247359  6.623563  8.674050  7.050501\n",
       "KRAS    3.895217  5.844683  5.477790  5.248287  4.947568  5.479305  5.145076\n",
       "NOTCH1  4.791276  1.773608  5.895624  6.025112  1.993999  2.618996  4.922705\n",
       "PALB2   3.799950  3.396950  4.055603  3.699410  3.563020  3.489316  3.566488\n",
       "SRY     0.000000  0.000000  0.000000  0.000000  0.000000  0.000000  0.000000\n",
       "TP53    5.859000  1.802825  5.860707  7.865521  2.543594  3.166362  5.042962"
      ]
     },
     "execution_count": 11,
     "metadata": {},
     "output_type": "execute_result"
    }
   ],
   "source": [
    "result"
   ]
  }
 ],
 "metadata": {
  "kernelspec": {
   "display_name": "Python 3 (ipykernel)",
   "language": "python",
   "name": "python3"
  },
  "language_info": {
   "codemirror_mode": {
    "name": "ipython",
    "version": 3
   },
   "file_extension": ".py",
   "mimetype": "text/x-python",
   "name": "python",
   "nbconvert_exporter": "python",
   "pygments_lexer": "ipython3",
   "version": "3.8.12"
  }
 },
 "nbformat": 4,
 "nbformat_minor": 1
}
